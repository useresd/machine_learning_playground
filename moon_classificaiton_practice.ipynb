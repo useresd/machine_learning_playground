{
  "cells": [
    {
      "cell_type": "code",
      "execution_count": 1,
      "metadata": {
        "id": "6Geql1vgX8Ta"
      },
      "outputs": [
        {
          "name": "stderr",
          "output_type": "stream",
          "text": [
            "/home/joe/ml/venv/lib/python3.12/site-packages/tqdm/auto.py:21: TqdmWarning: IProgress not found. Please update jupyter and ipywidgets. See https://ipywidgets.readthedocs.io/en/stable/user_install.html\n",
            "  from .autonotebook import tqdm as notebook_tqdm\n"
          ]
        }
      ],
      "source": [
        "import torch\n",
        "from torch import nn\n",
        "import matplotlib.pyplot as plt\n",
        "from sklearn.datasets import make_moons\n",
        "from sklearn.model_selection import train_test_split\n",
        "from torchmetrics import Accuracy\n",
        "import numpy as np"
      ]
    },
    {
      "cell_type": "markdown",
      "metadata": {
        "id": "hR67jN5EfQ-A"
      },
      "source": [
        "### Device agnostic code\n",
        "\n",
        "Here we check if the cuda is available then we are going to set it on the device, otherwise we are going to use cpu."
      ]
    },
    {
      "cell_type": "code",
      "execution_count": 2,
      "metadata": {
        "colab": {
          "base_uri": "https://localhost:8080/",
          "height": 36
        },
        "id": "X6TzeHTPfGr8",
        "outputId": "37db827f-a5fb-440d-e411-8d268d2a424d"
      },
      "outputs": [
        {
          "data": {
            "text/plain": [
              "'cpu'"
            ]
          },
          "execution_count": 2,
          "metadata": {},
          "output_type": "execute_result"
        }
      ],
      "source": [
        "device = \"cuda\" if torch.cuda.is_available() else \"cpu\"\n",
        "device"
      ]
    },
    {
      "cell_type": "markdown",
      "metadata": {
        "id": "C4yZAK0aeNty"
      },
      "source": [
        "### Prepare the dataset\n",
        "\n",
        "we should here parepare the dataset"
      ]
    },
    {
      "cell_type": "code",
      "execution_count": 3,
      "metadata": {
        "colab": {
          "base_uri": "https://localhost:8080/"
        },
        "id": "M_4zDiMHdb-i",
        "outputId": "80cedb7d-67b6-4755-8bcd-6f6b9018fd23"
      },
      "outputs": [
        {
          "name": "stdout",
          "output_type": "stream",
          "text": [
            "Shapes of data splited:\n",
            " (800, 2) (200, 2) (800,) (200,)\n"
          ]
        }
      ],
      "source": [
        "# for reproduceability prepare the dataset\n",
        "RANDOM_SEED = 42\n",
        "SAMPLE_SIZE = 1000\n",
        "\n",
        "# get the moons data\n",
        "X, y = make_moons(SAMPLE_SIZE, random_state=RANDOM_SEED)\n",
        "\n",
        "# we split the data into train and test samples\n",
        "X_train, X_test, y_train, y_test = train_test_split(X, y, test_size=0.2, random_state=RANDOM_SEED)\n",
        "\n",
        "# print to ensure that the shapes matches and we properly made the split.\n",
        "print(\"Shapes of data splited:\\n\", X_train.shape, X_test.shape, y_train.shape, y_test.shape)\n",
        "\n",
        "# convert the numpy arrays to tensors and ensure the type is float32 because numpy defaults to float64\n",
        "X_train = torch.from_numpy(X_train).type(torch.float).to(device)\n",
        "X_test = torch.from_numpy(X_test).type(torch.float).to(device)\n",
        "y_train = torch.from_numpy(y_train).type(torch.float).to(device)\n",
        "y_test = torch.from_numpy(y_test).type(torch.float).to(device)"
      ]
    },
    {
      "cell_type": "markdown",
      "metadata": {
        "id": "BOYU8c_tkc_l"
      },
      "source": [
        "### Build the model"
      ]
    },
    {
      "cell_type": "code",
      "execution_count": 4,
      "metadata": {
        "id": "2xXYKgiAkhIb"
      },
      "outputs": [],
      "source": [
        "class MoonModelV0(nn.Module):\n",
        "  def __init__(self):\n",
        "    super().__init__()\n",
        "    self.linear_1 = nn.Linear(2, 64)\n",
        "    self.linear_2 = nn.Linear(64, 16)\n",
        "    self.linear_3 = nn.Linear(16, 1)\n",
        "    self.relu = nn.ReLU()\n",
        "  def forward(self, x):\n",
        "    return self.linear_3(self.relu(self.linear_2(self.relu(self.linear_1(x)))))"
      ]
    },
    {
      "cell_type": "code",
      "execution_count": 5,
      "metadata": {
        "id": "WVgmtsn_tRDA"
      },
      "outputs": [],
      "source": [
        "model_v0 = MoonModelV0().to(device)"
      ]
    },
    {
      "cell_type": "code",
      "execution_count": 6,
      "metadata": {
        "colab": {
          "base_uri": "https://localhost:8080/"
        },
        "id": "qE2UVHGPlAIt",
        "outputId": "7fb36653-8f6d-4d73-a082-3b84e7cb12c7"
      },
      "outputs": [
        {
          "name": "stdout",
          "output_type": "stream",
          "text": [
            "epoch: 0, loss: 0.6981, acc: 50.00 | test_loss: 0.6921, test_acc: 50.00\n",
            "epoch: 25, loss: 0.4941, acc: 82.38 | test_loss: 0.5022, test_acc: 81.00\n",
            "epoch: 50, loss: 0.3199, acc: 84.88 | test_loss: 0.3348, test_acc: 85.50\n",
            "epoch: 75, loss: 0.2596, acc: 87.38 | test_loss: 0.2687, test_acc: 87.50\n",
            "epoch: 100, loss: 0.2294, acc: 88.75 | test_loss: 0.2336, test_acc: 90.50\n",
            "epoch: 125, loss: 0.2094, acc: 90.25 | test_loss: 0.2107, test_acc: 90.50\n",
            "epoch: 150, loss: 0.1936, acc: 91.00 | test_loss: 0.1932, test_acc: 91.50\n",
            "epoch: 175, loss: 0.1790, acc: 91.75 | test_loss: 0.1776, test_acc: 92.50\n",
            "epoch: 200, loss: 0.1644, acc: 92.50 | test_loss: 0.1623, test_acc: 93.00\n",
            "epoch: 225, loss: 0.1494, acc: 93.50 | test_loss: 0.1468, test_acc: 93.00\n",
            "epoch: 250, loss: 0.1341, acc: 94.25 | test_loss: 0.1313, test_acc: 94.50\n",
            "epoch: 275, loss: 0.1186, acc: 95.00 | test_loss: 0.1158, test_acc: 95.50\n",
            "epoch: 300, loss: 0.1035, acc: 95.62 | test_loss: 0.1008, test_acc: 97.00\n",
            "epoch: 325, loss: 0.0893, acc: 96.62 | test_loss: 0.0868, test_acc: 97.50\n",
            "epoch: 350, loss: 0.0764, acc: 97.50 | test_loss: 0.0741, test_acc: 98.00\n",
            "epoch: 375, loss: 0.0652, acc: 98.38 | test_loss: 0.0630, test_acc: 98.00\n",
            "epoch: 400, loss: 0.0556, acc: 99.12 | test_loss: 0.0537, test_acc: 99.00\n",
            "epoch: 425, loss: 0.0475, acc: 99.62 | test_loss: 0.0458, test_acc: 100.00\n",
            "epoch: 450, loss: 0.0408, acc: 99.88 | test_loss: 0.0393, test_acc: 100.00\n",
            "epoch: 475, loss: 0.0353, acc: 100.00 | test_loss: 0.0339, test_acc: 100.00\n"
          ]
        }
      ],
      "source": [
        "# initialize the optimizer and metrics\n",
        "optimizer = torch.optim.SGD(params=model_v0.parameters(), lr=0.1)\n",
        "loss_fn = torch.nn.BCEWithLogitsLoss()\n",
        "acc_fn = Accuracy(task='binary')\n",
        "\n",
        "# build the training and testing loop\n",
        "epochs = 500\n",
        "\n",
        "for epoch in range(epochs):\n",
        "  # build the training loop\n",
        "\n",
        "  # set the model into the training mode\n",
        "  model_v0.train()\n",
        "  # do the forward pass\n",
        "  y_logits = model_v0(X_train).squeeze()\n",
        "  y_preds = torch.sigmoid(y_logits)\n",
        "  # calculate the metrics\n",
        "  loss = loss_fn(y_logits, y_train)\n",
        "  acc = acc_fn(y_preds, y_train)\n",
        "  # zero the optimizer gradients and step it\n",
        "  optimizer.zero_grad()\n",
        "  loss.backward()\n",
        "  optimizer.step()\n",
        "\n",
        "  # build the testing loop\n",
        "  model_v0.eval()\n",
        "  with torch.inference_mode():\n",
        "    y_test_logits = model_v0(X_test).squeeze()\n",
        "    y_test_preds = torch.sigmoid(y_test_logits)\n",
        "\n",
        "    test_loss = loss_fn(y_test_logits, y_test)\n",
        "    test_acc = acc_fn(y_test_preds, y_test)\n",
        "\n",
        "  if epoch % 25 == 0:\n",
        "    print(f\"epoch: {epoch}, loss: {loss:0.4f}, acc: {acc * 100:0.2f} | test_loss: {test_loss:0.4f}, test_acc: {test_acc * 100:0.2f}\")\n"
      ]
    },
    {
      "cell_type": "markdown",
      "metadata": {
        "id": "y_ULKEmsvfTh"
      },
      "source": [
        "### Visualize the result"
      ]
    },
    {
      "cell_type": "code",
      "execution_count": 7,
      "metadata": {
        "colab": {
          "base_uri": "https://localhost:8080/"
        },
        "id": "W9UfFdP6wQFu",
        "outputId": "69044457-1101-41a7-b36e-0c2a95507e95"
      },
      "outputs": [
        {
          "data": {
            "text/plain": [
              "tensor([1., 0., 1., 0., 1., 1., 0., 0., 1., 0., 0., 1., 0., 1., 0., 1., 1., 0.,\n",
              "        1., 0., 0., 0., 1., 0., 0., 0., 0., 0., 0., 1., 1., 0., 0., 1., 0., 1.,\n",
              "        1., 1., 1., 1., 1., 1., 1., 0., 0., 1., 0., 0., 1., 1., 0., 0., 0., 0.,\n",
              "        1., 0., 1., 1., 1., 0., 1., 0., 0., 1., 1., 1., 1., 0., 0., 0., 1., 0.,\n",
              "        0., 1., 1., 1., 1., 0., 0., 1., 0., 1., 0., 1., 1., 1., 0., 0., 0., 0.,\n",
              "        1., 1., 1., 1., 1., 0., 1., 1., 0., 1., 0., 0., 1., 1., 0., 0., 1., 0.,\n",
              "        0., 1., 1., 1., 0., 1., 1., 0., 1., 0., 1., 0., 1., 0., 0., 1., 1., 0.,\n",
              "        1., 1., 0., 1., 1., 0., 1., 0., 0., 0., 1., 0., 0., 1., 0., 0., 0., 1.,\n",
              "        0., 0., 1., 0., 1., 0., 1., 0., 1., 0., 1., 1., 1., 0., 0., 1., 0., 1.,\n",
              "        1., 0., 1., 0., 0., 0., 0., 1., 1., 1., 1., 0., 0., 0., 0., 0., 1., 0.,\n",
              "        0., 1., 0., 1., 1., 0., 0., 0., 1., 1., 0., 1., 1., 0., 1., 0., 1., 0.,\n",
              "        1., 1.])"
            ]
          },
          "execution_count": 7,
          "metadata": {},
          "output_type": "execute_result"
        }
      ],
      "source": [
        "y_test_preds.round()"
      ]
    },
    {
      "cell_type": "code",
      "execution_count": 10,
      "metadata": {
        "colab": {
          "base_uri": "https://localhost:8080/",
          "height": 430
        },
        "id": "1xrNe9OvveIi",
        "outputId": "eb3b8019-e886-428e-8c98-48df8f613f26"
      },
      "outputs": [
        {
          "data": {
            "image/png": "[encoded data removed]",
            "text/plain": [
              "<Figure size 640x480 with 1 Axes>"
            ]
          },
          "metadata": {},
          "output_type": "display_data"
        }
      ],
      "source": [
        "from utils.boundaries import plot_decision_boundary\n",
        "\n",
        "plot_decision_boundary(model_v0, X_train, y_train)"
      ]
    }
  ],
  "metadata": {
    "colab": {
      "provenance": []
    },
    "kernelspec": {
      "display_name": "venv",
      "language": "python",
      "name": "python3"
    },
    "language_info": {
      "codemirror_mode": {
        "name": "ipython",
        "version": 3
      },
      "file_extension": ".py",
      "mimetype": "text/x-python",
      "name": "python",
      "nbconvert_exporter": "python",
      "pygments_lexer": "ipython3",
      "version": "3.12.3"
    }
  },
  "nbformat": 4,
  "nbformat_minor": 0
}
