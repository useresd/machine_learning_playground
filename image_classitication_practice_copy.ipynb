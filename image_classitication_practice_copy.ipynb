{
  "cells": [
    {
      "cell_type": "code",
      "execution_count": 1,
      "id": "ZK6tQZyC0F0s",
      "metadata": {
        "id": "ZK6tQZyC0F0s",
        "colab": {
          "base_uri": "https://localhost:8080/"
        },
        "outputId": "4390736f-b607-4481-a6d2-e861f42d2c19"
      },
      "outputs": [
        {
          "output_type": "stream",
          "name": "stdout",
          "text": [
            "Collecting mplcyberpunk\n",
            "  Downloading mplcyberpunk-0.7.6-py3-none-any.whl.metadata (3.4 kB)\n",
            "Collecting torchmetrics\n",
            "  Downloading torchmetrics-1.8.2-py3-none-any.whl.metadata (22 kB)\n",
            "Requirement already satisfied: matplotlib in /usr/local/lib/python3.12/dist-packages (from mplcyberpunk) (3.10.0)\n",
            "Requirement already satisfied: numpy>1.24.4 in /usr/local/lib/python3.12/dist-packages (from mplcyberpunk) (2.0.2)\n",
            "Requirement already satisfied: packaging>17.1 in /usr/local/lib/python3.12/dist-packages (from torchmetrics) (25.0)\n",
            "Requirement already satisfied: torch>=2.0.0 in /usr/local/lib/python3.12/dist-packages (from torchmetrics) (2.8.0+cu126)\n",
            "Collecting lightning-utilities>=0.8.0 (from torchmetrics)\n",
            "  Downloading lightning_utilities-0.15.2-py3-none-any.whl.metadata (5.7 kB)\n",
            "Requirement already satisfied: setuptools in /usr/local/lib/python3.12/dist-packages (from lightning-utilities>=0.8.0->torchmetrics) (75.2.0)\n",
            "Requirement already satisfied: typing_extensions in /usr/local/lib/python3.12/dist-packages (from lightning-utilities>=0.8.0->torchmetrics) (4.15.0)\n",
            "Requirement already satisfied: filelock in /usr/local/lib/python3.12/dist-packages (from torch>=2.0.0->torchmetrics) (3.20.0)\n",
            "Requirement already satisfied: sympy>=1.13.3 in /usr/local/lib/python3.12/dist-packages (from torch>=2.0.0->torchmetrics) (1.13.3)\n",
            "Requirement already satisfied: networkx in /usr/local/lib/python3.12/dist-packages (from torch>=2.0.0->torchmetrics) (3.5)\n",
            "Requirement already satisfied: jinja2 in /usr/local/lib/python3.12/dist-packages (from torch>=2.0.0->torchmetrics) (3.1.6)\n",
            "Requirement already satisfied: fsspec in /usr/local/lib/python3.12/dist-packages (from torch>=2.0.0->torchmetrics) (2025.3.0)\n",
            "Requirement already satisfied: nvidia-cuda-nvrtc-cu12==12.6.77 in /usr/local/lib/python3.12/dist-packages (from torch>=2.0.0->torchmetrics) (12.6.77)\n",
            "Requirement already satisfied: nvidia-cuda-runtime-cu12==12.6.77 in /usr/local/lib/python3.12/dist-packages (from torch>=2.0.0->torchmetrics) (12.6.77)\n",
            "Requirement already satisfied: nvidia-cuda-cupti-cu12==12.6.80 in /usr/local/lib/python3.12/dist-packages (from torch>=2.0.0->torchmetrics) (12.6.80)\n",
            "Requirement already satisfied: nvidia-cudnn-cu12==9.10.2.21 in /usr/local/lib/python3.12/dist-packages (from torch>=2.0.0->torchmetrics) (9.10.2.21)\n",
            "Requirement already satisfied: nvidia-cublas-cu12==12.6.4.1 in /usr/local/lib/python3.12/dist-packages (from torch>=2.0.0->torchmetrics) (12.6.4.1)\n",
            "Requirement already satisfied: nvidia-cufft-cu12==11.3.0.4 in /usr/local/lib/python3.12/dist-packages (from torch>=2.0.0->torchmetrics) (11.3.0.4)\n",
            "Requirement already satisfied: nvidia-curand-cu12==10.3.7.77 in /usr/local/lib/python3.12/dist-packages (from torch>=2.0.0->torchmetrics) (10.3.7.77)\n",
            "Requirement already satisfied: nvidia-cusolver-cu12==11.7.1.2 in /usr/local/lib/python3.12/dist-packages (from torch>=2.0.0->torchmetrics) (11.7.1.2)\n",
            "Requirement already satisfied: nvidia-cusparse-cu12==12.5.4.2 in /usr/local/lib/python3.12/dist-packages (from torch>=2.0.0->torchmetrics) (12.5.4.2)\n",
            "Requirement already satisfied: nvidia-cusparselt-cu12==0.7.1 in /usr/local/lib/python3.12/dist-packages (from torch>=2.0.0->torchmetrics) (0.7.1)\n",
            "Requirement already satisfied: nvidia-nccl-cu12==2.27.3 in /usr/local/lib/python3.12/dist-packages (from torch>=2.0.0->torchmetrics) (2.27.3)\n",
            "Requirement already satisfied: nvidia-nvtx-cu12==12.6.77 in /usr/local/lib/python3.12/dist-packages (from torch>=2.0.0->torchmetrics) (12.6.77)\n",
            "Requirement already satisfied: nvidia-nvjitlink-cu12==12.6.85 in /usr/local/lib/python3.12/dist-packages (from torch>=2.0.0->torchmetrics) (12.6.85)\n",
            "Requirement already satisfied: nvidia-cufile-cu12==1.11.1.6 in /usr/local/lib/python3.12/dist-packages (from torch>=2.0.0->torchmetrics) (1.11.1.6)\n",
            "Requirement already satisfied: triton==3.4.0 in /usr/local/lib/python3.12/dist-packages (from torch>=2.0.0->torchmetrics) (3.4.0)\n",
            "Requirement already satisfied: contourpy>=1.0.1 in /usr/local/lib/python3.12/dist-packages (from matplotlib->mplcyberpunk) (1.3.3)\n",
            "Requirement already satisfied: cycler>=0.10 in /usr/local/lib/python3.12/dist-packages (from matplotlib->mplcyberpunk) (0.12.1)\n",
            "Requirement already satisfied: fonttools>=4.22.0 in /usr/local/lib/python3.12/dist-packages (from matplotlib->mplcyberpunk) (4.60.1)\n",
            "Requirement already satisfied: kiwisolver>=1.3.1 in /usr/local/lib/python3.12/dist-packages (from matplotlib->mplcyberpunk) (1.4.9)\n",
            "Requirement already satisfied: pillow>=8 in /usr/local/lib/python3.12/dist-packages (from matplotlib->mplcyberpunk) (11.3.0)\n",
            "Requirement already satisfied: pyparsing>=2.3.1 in /usr/local/lib/python3.12/dist-packages (from matplotlib->mplcyberpunk) (3.2.5)\n",
            "Requirement already satisfied: python-dateutil>=2.7 in /usr/local/lib/python3.12/dist-packages (from matplotlib->mplcyberpunk) (2.9.0.post0)\n",
            "Requirement already satisfied: six>=1.5 in /usr/local/lib/python3.12/dist-packages (from python-dateutil>=2.7->matplotlib->mplcyberpunk) (1.17.0)\n",
            "Requirement already satisfied: mpmath<1.4,>=1.1.0 in /usr/local/lib/python3.12/dist-packages (from sympy>=1.13.3->torch>=2.0.0->torchmetrics) (1.3.0)\n",
            "Requirement already satisfied: MarkupSafe>=2.0 in /usr/local/lib/python3.12/dist-packages (from jinja2->torch>=2.0.0->torchmetrics) (3.0.3)\n",
            "Downloading mplcyberpunk-0.7.6-py3-none-any.whl (6.5 kB)\n",
            "Downloading torchmetrics-1.8.2-py3-none-any.whl (983 kB)\n",
            "\u001b[2K   \u001b[90m━━━━━━━━━━━━━━━━━━━━━━━━━━━━━━━━━━━━━━━━\u001b[0m \u001b[32m983.2/983.2 kB\u001b[0m \u001b[31m33.3 MB/s\u001b[0m eta \u001b[36m0:00:00\u001b[0m\n",
            "\u001b[?25hDownloading lightning_utilities-0.15.2-py3-none-any.whl (29 kB)\n",
            "Installing collected packages: lightning-utilities, mplcyberpunk, torchmetrics\n",
            "Successfully installed lightning-utilities-0.15.2 mplcyberpunk-0.7.6 torchmetrics-1.8.2\n"
          ]
        }
      ],
      "source": [
        "%pip install mplcyberpunk torchmetrics"
      ]
    },
    {
      "cell_type": "code",
      "execution_count": 2,
      "id": "ff543cfb",
      "metadata": {
        "id": "ff543cfb"
      },
      "outputs": [],
      "source": [
        "import torch\n",
        "import torchvision\n",
        "\n",
        "from torchvision import datasets\n",
        "from torchvision.transforms import ToTensor\n",
        "import matplotlib.pyplot as plt\n",
        "from torch import nn\n",
        "from torchmetrics import Accuracy\n",
        "from tqdm.auto import tqdm"
      ]
    },
    {
      "cell_type": "code",
      "execution_count": 3,
      "id": "d336d3ed",
      "metadata": {
        "colab": {
          "base_uri": "https://localhost:8080/"
        },
        "id": "d336d3ed",
        "outputId": "0c260682-4d28-4104-aff2-9e782c794abc"
      },
      "outputs": [
        {
          "output_type": "stream",
          "name": "stdout",
          "text": [
            "2.8.0+cu126 0.23.0+cu126\n",
            "cuda\n"
          ]
        }
      ],
      "source": [
        "# check the version of torch and torchvision\n",
        "print(torch.__version__, torchvision.__version__)\n",
        "\n",
        "# setup device agnoustic code\n",
        "device = \"cuda\" if torch.cuda.is_available() else \"cpu\"\n",
        "print(device)"
      ]
    },
    {
      "cell_type": "markdown",
      "id": "ba7ed38d",
      "metadata": {
        "id": "ba7ed38d"
      },
      "source": [
        "### Loading, Exploring and Preparing the dataset\n",
        "\n",
        "we are going to use FashionMNIST Dataset from torch vision"
      ]
    },
    {
      "cell_type": "code",
      "execution_count": 4,
      "id": "4d1094a5",
      "metadata": {
        "colab": {
          "base_uri": "https://localhost:8080/"
        },
        "id": "4d1094a5",
        "outputId": "d10b53a1-c40f-45a4-8c83-96876ccc5227"
      },
      "outputs": [
        {
          "output_type": "stream",
          "name": "stderr",
          "text": [
            "100%|██████████| 26.4M/26.4M [00:02<00:00, 11.2MB/s]\n",
            "100%|██████████| 29.5k/29.5k [00:00<00:00, 189kB/s]\n",
            "100%|██████████| 4.42M/4.42M [00:01<00:00, 3.51MB/s]\n",
            "100%|██████████| 5.15k/5.15k [00:00<00:00, 14.6MB/s]\n"
          ]
        }
      ],
      "source": [
        "training_data = datasets.FashionMNIST(\n",
        "  root=\"data\",\n",
        "  train=True,\n",
        "  download=True,\n",
        "  transform=ToTensor()\n",
        ")\n",
        "\n",
        "testing_data = datasets.FashionMNIST(\n",
        "  root=\"data\",\n",
        "  train=False,\n",
        "  download=True,\n",
        "  transform=ToTensor()\n",
        ")"
      ]
    },
    {
      "cell_type": "code",
      "execution_count": 6,
      "id": "7xc930hu0OLg",
      "metadata": {
        "colab": {
          "base_uri": "https://localhost:8080/",
          "height": 776
        },
        "id": "7xc930hu0OLg",
        "outputId": "4b6519e7-6493-48dd-a28b-13517ade78d7"
      },
      "outputs": [
        {
          "output_type": "display_data",
          "data": {
            "text/plain": [
              "<Figure size 900x900 with 9 Axes>"
            ],
            "image/png": "[encoded data removed]"
          },
          "metadata": {}
        }
      ],
      "source": [
        "fig = plt.figure(figsize=(9, 9))\n",
        "\n",
        "rows, cols = 3, 3\n",
        "\n",
        "for i in range(1, rows * cols + 1):\n",
        "  rand_idx = torch.randint(0, len(training_data), (1,)).item()\n",
        "  fig.add_subplot(rows, cols, i)\n",
        "  feat, label = training_data[rand_idx]\n",
        "  plt.title(training_data.classes[label])\n",
        "  plt.imshow(feat.squeeze(), cmap=plt.cm.gray_r)"
      ]
    },
    {
      "cell_type": "code",
      "execution_count": 7,
      "id": "WAAMjWTV5Snx",
      "metadata": {
        "id": "WAAMjWTV5Snx"
      },
      "outputs": [],
      "source": [
        "from torch.utils.data import DataLoader\n",
        "training_dataloader = DataLoader(dataset=training_data, batch_size=32, shuffle=True)\n",
        "testing_dataloader = DataLoader(dataset=testing_data, batch_size=32, shuffle=False)"
      ]
    },
    {
      "cell_type": "code",
      "execution_count": 8,
      "id": "JuIm1jPR6kif",
      "metadata": {
        "colab": {
          "base_uri": "https://localhost:8080/"
        },
        "id": "JuIm1jPR6kif",
        "outputId": "a2b9b323-4217-4a17-ba5f-3fb9e4945cc9"
      },
      "outputs": [
        {
          "output_type": "execute_result",
          "data": {
            "text/plain": [
              "10"
            ]
          },
          "metadata": {},
          "execution_count": 8
        }
      ],
      "source": [
        "len(training_data.classes)"
      ]
    },
    {
      "cell_type": "code",
      "execution_count": 9,
      "id": "JtMRTM_37GXG",
      "metadata": {
        "id": "JtMRTM_37GXG"
      },
      "outputs": [],
      "source": [
        "class FashionModel(nn.Module):\n",
        "  def __init__(self, hidden_layers = 10):\n",
        "    super().__init__()\n",
        "\n",
        "    self.seq = nn.Sequential(\n",
        "      nn.Flatten(),\n",
        "      nn.Linear(in_features=784, out_features=hidden_layers),\n",
        "      nn.Linear(in_features=hidden_layers, out_features=10)\n",
        "    )\n",
        "  def forward(self, x):\n",
        "    return self.seq(x)"
      ]
    },
    {
      "cell_type": "code",
      "execution_count": 26,
      "id": "91tCRoCr-Gbr",
      "metadata": {
        "id": "91tCRoCr-Gbr"
      },
      "outputs": [],
      "source": [
        "model = FashionModel().to(device)"
      ]
    },
    {
      "cell_type": "code",
      "execution_count": 27,
      "id": "45cb1b52",
      "metadata": {
        "id": "45cb1b52"
      },
      "outputs": [],
      "source": [
        "# setpup the optimizer\n",
        "optimizer = torch.optim.SGD(model.parameters(), lr=0.01)\n",
        "# loss function\n",
        "loss_fn = torch.nn.CrossEntropyLoss()\n",
        "# accuracy function\n",
        "acc_fn = Accuracy(task='multiclass', num_classes=len(training_data.classes)).to(device)"
      ]
    },
    {
      "cell_type": "code",
      "execution_count": 29,
      "id": "d7527d91",
      "metadata": {
        "colab": {
          "base_uri": "https://localhost:8080/",
          "height": 223,
          "referenced_widgets": [
            "c1b6d8c93ec14ff89393d2e948babc34",
            "d5c3fee9ae8247e987b975f813e99add",
            "2e25f03f1f40404e862f5bc9e2451470",
            "dd8e69c9a49f46b8abee611133c0137e",
            "b2482e73b5214ce19486bce63637793c",
            "758d56168376448ca7e1b79fded1f328",
            "a372d3b9fbae4e8cb5ad3801ee90a33b",
            "249c33bee54045a19accf5dc8a0988cc",
            "c1edd3a6256741b4b387e6f3752b9e77",
            "79b15924c99542a99e3dda4bb4b003c4",
            "dc90b97f41a848448dac32293c7b3f2f"
          ]
        },
        "id": "d7527d91",
        "outputId": "f7758bd5-8f66-45d2-9f12-eb65699b83e6"
      },
      "outputs": [
        {
          "output_type": "display_data",
          "data": {
            "text/plain": [
              "  0%|          | 0/10 [00:00<?, ?it/s]"
            ],
            "application/vnd.jupyter.widget-view+json": {
              "version_major": 2,
              "version_minor": 0,
              "model_id": "c1b6d8c93ec14ff89393d2e948babc34"
            }
          },
          "metadata": {}
        },
        {
          "output_type": "stream",
          "name": "stdout",
          "text": [
            "Epoch: 0, loss: 0.8250, acc: 0.82 | test_loss: 0.5235, test_acc: 0.8176\n",
            "Epoch: 1, loss: 0.8335, acc: 0.83 | test_loss: 0.5032, test_acc: 0.8225\n",
            "Epoch: 2, loss: 0.8395, acc: 0.84 | test_loss: 0.4967, test_acc: 0.8257\n",
            "Epoch: 3, loss: 0.8428, acc: 0.84 | test_loss: 0.4780, test_acc: 0.8313\n",
            "Epoch: 4, loss: 0.8471, acc: 0.85 | test_loss: 0.4765, test_acc: 0.8324\n",
            "Epoch: 5, loss: 0.8493, acc: 0.85 | test_loss: 0.4677, test_acc: 0.8351\n",
            "Epoch: 6, loss: 0.8513, acc: 0.85 | test_loss: 0.4743, test_acc: 0.8321\n",
            "Epoch: 7, loss: 0.8532, acc: 0.85 | test_loss: 0.4654, test_acc: 0.8348\n",
            "Epoch: 8, loss: 0.8537, acc: 0.85 | test_loss: 0.4648, test_acc: 0.8332\n",
            "Epoch: 9, loss: 0.8562, acc: 0.86 | test_loss: 0.4533, test_acc: 0.8396\n"
          ]
        }
      ],
      "source": [
        "epochs = 10\n",
        "\n",
        "for epoch in tqdm(range(epochs)):\n",
        "\n",
        "  avg_train_loss = 0\n",
        "  avg_train_acc = 0\n",
        "\n",
        "  avg_test_loss = 0\n",
        "  avg_test_acc = 0\n",
        "\n",
        "  for X_train, y_train in training_dataloader:\n",
        "\n",
        "    X_train, y_train = X_train.to(device), y_train.to(device)\n",
        "    # put the model in the training mode\n",
        "    model.train()\n",
        "\n",
        "    # do the forward pass\n",
        "    logits = model(X_train)\n",
        "    preds = torch.softmax(logits, dim=1).argmax(dim=1)\n",
        "    # calculate the loss\n",
        "    loss = loss_fn(logits, y_train)\n",
        "    avg_train_loss += loss\n",
        "\n",
        "    # calculate the accuracy\n",
        "    acc = acc_fn(preds, y_train)\n",
        "    avg_train_acc += acc\n",
        "\n",
        "    # zero the optimizer gradients\n",
        "    optimizer.zero_grad()\n",
        "    # backpropagtion\n",
        "    loss.backward()\n",
        "    # step the optimizer\n",
        "    optimizer.step()\n",
        "\n",
        "  avg_train_loss /= len(training_dataloader)\n",
        "  avg_train_acc /= len(training_dataloader)\n",
        "\n",
        "  with torch.inference_mode():\n",
        "    for X_test, y_test in testing_dataloader:\n",
        "\n",
        "      X_test, y_test = X_test.to(device), y_test.to(device)\n",
        "      # do the testing phase\n",
        "      model.eval()\n",
        "\n",
        "      # activate the inference context\n",
        "      test_logits = model(X_test)\n",
        "      test_preds = torch.softmax(test_logits, dim=1).argmax(dim=1)\n",
        "      # calculate the test loss\n",
        "      test_loss = loss_fn(test_logits, y_test)\n",
        "      avg_test_loss += test_loss\n",
        "      # calculate the test acc\n",
        "      test_acc = acc_fn(test_preds, y_test)\n",
        "      avg_test_acc += test_acc\n",
        "\n",
        "    avg_test_loss /= len(testing_dataloader)\n",
        "    avg_test_acc /= len(testing_dataloader)\n",
        "\n",
        "    print(f\"Epoch: {epoch}, loss: {avg_train_acc:0.4f}, acc: {avg_train_acc:0.2f} | test_loss: {avg_test_loss:0.4f}, test_acc: {avg_test_acc:0.4f}\")\n",
        "\n"
      ]
    }
  ],
  "metadata": {
    "colab": {
      "provenance": [],
      "gpuType": "T4"
    },
    "kernelspec": {
      "display_name": "Python 3",
      "name": "python3"
    },
    "language_info": {
      "codemirror_mode": {
        "name": "ipython",
        "version": 3
      },
      "file_extension": ".py",
      "mimetype": "text/x-python",
      "name": "python",
      "nbconvert_exporter": "python",
      "pygments_lexer": "ipython3",
      "version": "3.12.3"
    },
    "accelerator": "GPU",
    "widgets": {
      "application/vnd.jupyter.widget-state+json": {
        "c1b6d8c93ec14ff89393d2e948babc34": {
          "model_module": "@jupyter-widgets/controls",
          "model_name": "HBoxModel",
          "model_module_version": "1.5.0",
          "state": {
            "_dom_classes": [],
            "_model_module": "@jupyter-widgets/controls",
            "_model_module_version": "1.5.0",
            "_model_name": "HBoxModel",
            "_view_count": null,
            "_view_module": "@jupyter-widgets/controls",
            "_view_module_version": "1.5.0",
            "_view_name": "HBoxView",
            "box_style": "",
            "children": [
              "IPY_MODEL_d5c3fee9ae8247e987b975f813e99add",
              "IPY_MODEL_2e25f03f1f40404e862f5bc9e2451470",
              "IPY_MODEL_dd8e69c9a49f46b8abee611133c0137e"
            ],
            "layout": "IPY_MODEL_b2482e73b5214ce19486bce63637793c"
          }
        },
        "d5c3fee9ae8247e987b975f813e99add": {
          "model_module": "@jupyter-widgets/controls",
          "model_name": "HTMLModel",
          "model_module_version": "1.5.0",
          "state": {
            "_dom_classes": [],
            "_model_module": "@jupyter-widgets/controls",
            "_model_module_version": "1.5.0",
            "_model_name": "HTMLModel",
            "_view_count": null,
            "_view_module": "@jupyter-widgets/controls",
            "_view_module_version": "1.5.0",
            "_view_name": "HTMLView",
            "description": "",
            "description_tooltip": null,
            "layout": "IPY_MODEL_758d56168376448ca7e1b79fded1f328",
            "placeholder": "​",
            "style": "IPY_MODEL_a372d3b9fbae4e8cb5ad3801ee90a33b",
            "value": "100%"
          }
        },
        "2e25f03f1f40404e862f5bc9e2451470": {
          "model_module": "@jupyter-widgets/controls",
          "model_name": "FloatProgressModel",
          "model_module_version": "1.5.0",
          "state": {
            "_dom_classes": [],
            "_model_module": "@jupyter-widgets/controls",
            "_model_module_version": "1.5.0",
            "_model_name": "FloatProgressModel",
            "_view_count": null,
            "_view_module": "@jupyter-widgets/controls",
            "_view_module_version": "1.5.0",
            "_view_name": "ProgressView",
            "bar_style": "success",
            "description": "",
            "description_tooltip": null,
            "layout": "IPY_MODEL_249c33bee54045a19accf5dc8a0988cc",
            "max": 10,
            "min": 0,
            "orientation": "horizontal",
            "style": "IPY_MODEL_c1edd3a6256741b4b387e6f3752b9e77",
            "value": 10
          }
        },
        "dd8e69c9a49f46b8abee611133c0137e": {
          "model_module": "@jupyter-widgets/controls",
          "model_name": "HTMLModel",
          "model_module_version": "1.5.0",
          "state": {
            "_dom_classes": [],
            "_model_module": "@jupyter-widgets/controls",
            "_model_module_version": "1.5.0",
            "_model_name": "HTMLModel",
            "_view_count": null,
            "_view_module": "@jupyter-widgets/controls",
            "_view_module_version": "1.5.0",
            "_view_name": "HTMLView",
            "description": "",
            "description_tooltip": null,
            "layout": "IPY_MODEL_79b15924c99542a99e3dda4bb4b003c4",
            "placeholder": "​",
            "style": "IPY_MODEL_dc90b97f41a848448dac32293c7b3f2f",
            "value": " 10/10 [01:56&lt;00:00, 11.66s/it]"
          }
        },
        "b2482e73b5214ce19486bce63637793c": {
          "model_module": "@jupyter-widgets/base",
          "model_name": "LayoutModel",
          "model_module_version": "1.2.0",
          "state": {
            "_model_module": "@jupyter-widgets/base",
            "_model_module_version": "1.2.0",
            "_model_name": "LayoutModel",
            "_view_count": null,
            "_view_module": "@jupyter-widgets/base",
            "_view_module_version": "1.2.0",
            "_view_name": "LayoutView",
            "align_content": null,
            "align_items": null,
            "align_self": null,
            "border": null,
            "bottom": null,
            "display": null,
            "flex": null,
            "flex_flow": null,
            "grid_area": null,
            "grid_auto_columns": null,
            "grid_auto_flow": null,
            "grid_auto_rows": null,
            "grid_column": null,
            "grid_gap": null,
            "grid_row": null,
            "grid_template_areas": null,
            "grid_template_columns": null,
            "grid_template_rows": null,
            "height": null,
            "justify_content": null,
            "justify_items": null,
            "left": null,
            "margin": null,
            "max_height": null,
            "max_width": null,
            "min_height": null,
            "min_width": null,
            "object_fit": null,
            "object_position": null,
            "order": null,
            "overflow": null,
            "overflow_x": null,
            "overflow_y": null,
            "padding": null,
            "right": null,
            "top": null,
            "visibility": null,
            "width": null
          }
        },
        "758d56168376448ca7e1b79fded1f328": {
          "model_module": "@jupyter-widgets/base",
          "model_name": "LayoutModel",
          "model_module_version": "1.2.0",
          "state": {
            "_model_module": "@jupyter-widgets/base",
            "_model_module_version": "1.2.0",
            "_model_name": "LayoutModel",
            "_view_count": null,
            "_view_module": "@jupyter-widgets/base",
            "_view_module_version": "1.2.0",
            "_view_name": "LayoutView",
            "align_content": null,
            "align_items": null,
            "align_self": null,
            "border": null,
            "bottom": null,
            "display": null,
            "flex": null,
            "flex_flow": null,
            "grid_area": null,
            "grid_auto_columns": null,
            "grid_auto_flow": null,
            "grid_auto_rows": null,
            "grid_column": null,
            "grid_gap": null,
            "grid_row": null,
            "grid_template_areas": null,
            "grid_template_columns": null,
            "grid_template_rows": null,
            "height": null,
            "justify_content": null,
            "justify_items": null,
            "left": null,
            "margin": null,
            "max_height": null,
            "max_width": null,
            "min_height": null,
            "min_width": null,
            "object_fit": null,
            "object_position": null,
            "order": null,
            "overflow": null,
            "overflow_x": null,
            "overflow_y": null,
            "padding": null,
            "right": null,
            "top": null,
            "visibility": null,
            "width": null
          }
        },
        "a372d3b9fbae4e8cb5ad3801ee90a33b": {
          "model_module": "@jupyter-widgets/controls",
          "model_name": "DescriptionStyleModel",
          "model_module_version": "1.5.0",
          "state": {
            "_model_module": "@jupyter-widgets/controls",
            "_model_module_version": "1.5.0",
            "_model_name": "DescriptionStyleModel",
            "_view_count": null,
            "_view_module": "@jupyter-widgets/base",
            "_view_module_version": "1.2.0",
            "_view_name": "StyleView",
            "description_width": ""
          }
        },
        "249c33bee54045a19accf5dc8a0988cc": {
          "model_module": "@jupyter-widgets/base",
          "model_name": "LayoutModel",
          "model_module_version": "1.2.0",
          "state": {
            "_model_module": "@jupyter-widgets/base",
            "_model_module_version": "1.2.0",
            "_model_name": "LayoutModel",
            "_view_count": null,
            "_view_module": "@jupyter-widgets/base",
            "_view_module_version": "1.2.0",
            "_view_name": "LayoutView",
            "align_content": null,
            "align_items": null,
            "align_self": null,
            "border": null,
            "bottom": null,
            "display": null,
            "flex": null,
            "flex_flow": null,
            "grid_area": null,
            "grid_auto_columns": null,
            "grid_auto_flow": null,
            "grid_auto_rows": null,
            "grid_column": null,
            "grid_gap": null,
            "grid_row": null,
            "grid_template_areas": null,
            "grid_template_columns": null,
            "grid_template_rows": null,
            "height": null,
            "justify_content": null,
            "justify_items": null,
            "left": null,
            "margin": null,
            "max_height": null,
            "max_width": null,
            "min_height": null,
            "min_width": null,
            "object_fit": null,
            "object_position": null,
            "order": null,
            "overflow": null,
            "overflow_x": null,
            "overflow_y": null,
            "padding": null,
            "right": null,
            "top": null,
            "visibility": null,
            "width": null
          }
        },
        "c1edd3a6256741b4b387e6f3752b9e77": {
          "model_module": "@jupyter-widgets/controls",
          "model_name": "ProgressStyleModel",
          "model_module_version": "1.5.0",
          "state": {
            "_model_module": "@jupyter-widgets/controls",
            "_model_module_version": "1.5.0",
            "_model_name": "ProgressStyleModel",
            "_view_count": null,
            "_view_module": "@jupyter-widgets/base",
            "_view_module_version": "1.2.0",
            "_view_name": "StyleView",
            "bar_color": null,
            "description_width": ""
          }
        },
        "79b15924c99542a99e3dda4bb4b003c4": {
          "model_module": "@jupyter-widgets/base",
          "model_name": "LayoutModel",
          "model_module_version": "1.2.0",
          "state": {
            "_model_module": "@jupyter-widgets/base",
            "_model_module_version": "1.2.0",
            "_model_name": "LayoutModel",
            "_view_count": null,
            "_view_module": "@jupyter-widgets/base",
            "_view_module_version": "1.2.0",
            "_view_name": "LayoutView",
            "align_content": null,
            "align_items": null,
            "align_self": null,
            "border": null,
            "bottom": null,
            "display": null,
            "flex": null,
            "flex_flow": null,
            "grid_area": null,
            "grid_auto_columns": null,
            "grid_auto_flow": null,
            "grid_auto_rows": null,
            "grid_column": null,
            "grid_gap": null,
            "grid_row": null,
            "grid_template_areas": null,
            "grid_template_columns": null,
            "grid_template_rows": null,
            "height": null,
            "justify_content": null,
            "justify_items": null,
            "left": null,
            "margin": null,
            "max_height": null,
            "max_width": null,
            "min_height": null,
            "min_width": null,
            "object_fit": null,
            "object_position": null,
            "order": null,
            "overflow": null,
            "overflow_x": null,
            "overflow_y": null,
            "padding": null,
            "right": null,
            "top": null,
            "visibility": null,
            "width": null
          }
        },
        "dc90b97f41a848448dac32293c7b3f2f": {
          "model_module": "@jupyter-widgets/controls",
          "model_name": "DescriptionStyleModel",
          "model_module_version": "1.5.0",
          "state": {
            "_model_module": "@jupyter-widgets/controls",
            "_model_module_version": "1.5.0",
            "_model_name": "DescriptionStyleModel",
            "_view_count": null,
            "_view_module": "@jupyter-widgets/base",
            "_view_module_version": "1.2.0",
            "_view_name": "StyleView",
            "description_width": ""
          }
        }
      }
    }
  },
  "nbformat": 4,
  "nbformat_minor": 5
}